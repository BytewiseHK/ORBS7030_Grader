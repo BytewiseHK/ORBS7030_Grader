{
 "cells": [
  {
   "cell_type": "markdown",
   "metadata": {},
   "source": [
    "The dataset is based on the data of the Bank Customer Churn.\n",
    "And I found three potential of the dataset:(1)Many of the balance of the customer are zero;(2)The customer complaint rate is relatively high;(3)Customer satisfaction is relatively low.\n",
    "The number of observations are 15.The data show seventeen variables, each describing the information of the customers in bank.\n",
    "The variables includes categorical and quanitative variables.\n"
   ]
  },
  {
   "cell_type": "code",
   "execution_count": 24,
   "metadata": {},
   "outputs": [
    {
     "name": "stdout",
     "output_type": "stream",
     "text": [
      "      RowNumber  CustomerId    Surname  CreditScore Geography  Gender  Age  \\\n",
      "0             1    15634602   Hargrave          619    France  Female   42   \n",
      "1             2    15647311       Hill          608     Spain  Female   41   \n",
      "2             3    15619304       Onio          502    France  Female   42   \n",
      "3             4    15701354       Boni          699    France  Female   39   \n",
      "4             5    15737888   Mitchell          850     Spain  Female   43   \n",
      "...         ...         ...        ...          ...       ...     ...  ...   \n",
      "9995       9996    15606229   Obijiaku          771    France    Male   39   \n",
      "9996       9997    15569892  Johnstone          516    France    Male   35   \n",
      "9997       9998    15584532        Liu          709    France  Female   36   \n",
      "9998       9999    15682355  Sabbatini          772   Germany    Male   42   \n",
      "9999      10000    15628319     Walker          792    France  Female   28   \n",
      "\n",
      "      Tenure    Balance  NumOfProducts  HasCrCard  IsActiveMember  \\\n",
      "0          2       0.00              1          1               1   \n",
      "1          1   83807.86              1          0               1   \n",
      "2          8  159660.80              3          1               0   \n",
      "3          1       0.00              2          0               0   \n",
      "4          2  125510.82              1          1               1   \n",
      "...      ...        ...            ...        ...             ...   \n",
      "9995       5       0.00              2          1               0   \n",
      "9996      10   57369.61              1          1               1   \n",
      "9997       7       0.00              1          0               1   \n",
      "9998       3   75075.31              2          1               0   \n",
      "9999       4  130142.79              1          1               0   \n",
      "\n",
      "      EstimatedSalary  Exited  Complain  Satisfaction Score Card Type  \\\n",
      "0           101348.88       1         1                   2   DIAMOND   \n",
      "1           112542.58       0         1                   3   DIAMOND   \n",
      "2           113931.57       1         1                   3   DIAMOND   \n",
      "3            93826.63       0         0                   5      GOLD   \n",
      "4            79084.10       0         0                   5      GOLD   \n",
      "...               ...     ...       ...                 ...       ...   \n",
      "9995         96270.64       0         0                   1   DIAMOND   \n",
      "9996        101699.77       0         0                   5  PLATINUM   \n",
      "9997         42085.58       1         1                   3    SILVER   \n",
      "9998         92888.52       1         1                   2      GOLD   \n",
      "9999         38190.78       0         0                   3   DIAMOND   \n",
      "\n",
      "      Point Earned  \n",
      "0              464  \n",
      "1              456  \n",
      "2              377  \n",
      "3              350  \n",
      "4              425  \n",
      "...            ...  \n",
      "9995           300  \n",
      "9996           771  \n",
      "9997           564  \n",
      "9998           339  \n",
      "9999           911  \n",
      "\n",
      "[10000 rows x 18 columns]\n"
     ]
    }
   ],
   "source": [
    "#import the dataset\n",
    "import pandas as pd\n",
    "\n",
    "data = pd.read_csv(\"7030.csv\")\n",
    "print(data)"
   ]
  },
  {
   "cell_type": "markdown",
   "metadata": {},
   "source": [
    "Calculate and present the numerical descriptive statistics of 'Balance','Complain' and 'Satisfaction Score' in data set."
   ]
  },
  {
   "cell_type": "code",
   "execution_count": 25,
   "metadata": {},
   "outputs": [
    {
     "name": "stdout",
     "output_type": "stream",
     "text": [
      "Requirement already satisfied: numpy in c:\\users\\86137\\documents\\wpsdrive\\notloginpage\\lib\\site-packages (1.26.4)\n",
      "Note: you may need to restart the kernel to use updated packages.\n"
     ]
    }
   ],
   "source": [
    "pip install numpy\n"
   ]
  },
  {
   "cell_type": "code",
   "execution_count": 26,
   "metadata": {},
   "outputs": [
    {
     "name": "stdout",
     "output_type": "stream",
     "text": [
      "0       1\n",
      "1       1\n",
      "2       1\n",
      "3       0\n",
      "4       0\n",
      "       ..\n",
      "9995    0\n",
      "9996    0\n",
      "9997    1\n",
      "9998    1\n",
      "9999    0\n",
      "Name: Complain, Length: 10000, dtype: int64\n",
      "Mean: 0.2044\n",
      "Variance: 0.16263690369036904\n",
      "Standard Deviation: 0.40328265979380895\n",
      "Median: 0.0\n",
      "Mode= 0\n",
      "quantiles [0.0, 0.0, 0.0]\n",
      "Coefficient of Variation: 1.9730071418483803\n",
      "Coefficient of Variation: 1.97%\n"
     ]
    }
   ],
   "source": [
    "import pandas as pd\n",
    "\n",
    "data = pd.read_csv(\"7030.csv\")\n",
    "print(data['Complain'])\n",
    "\n",
    "import statistics\n",
    "mean=(statistics.mean(data['Complain']))\n",
    "print(\"Mean:\", mean)\n",
    "variance=(statistics.variance(data['Complain']))\n",
    "print(\"Variance:\", variance)\n",
    "std_deviation=(statistics.stdev(data['Complain']))\n",
    "print(\"Standard Deviation:\", std_deviation)\n",
    "median=(statistics.median(data['Complain']))\n",
    "print(\"Median:\",median)\n",
    "mode=(statistics.mode(data['Complain']))\n",
    "print(\"Mode=\",mode)\n",
    "quantiles=(statistics.quantiles(data['Complain']))\n",
    "print(\"quantiles\",quantiles)\n",
    "coefficient_of_variation = std_deviation / mean\n",
    "print(\"Coefficient of Variation:\", coefficient_of_variation)\n",
    "print(f\"Coefficient of Variation: {coefficient_of_variation:.2f}%\")"
   ]
  },
  {
   "cell_type": "code",
   "execution_count": 27,
   "metadata": {},
   "outputs": [
    {
     "name": "stdout",
     "output_type": "stream",
     "text": [
      "0            0.00\n",
      "1        83807.86\n",
      "2       159660.80\n",
      "3            0.00\n",
      "4       125510.82\n",
      "          ...    \n",
      "9995         0.00\n",
      "9996     57369.61\n",
      "9997         0.00\n",
      "9998     75075.31\n",
      "9999    130142.79\n",
      "Name: Balance, Length: 10000, dtype: float64\n",
      "Mean: 76485.889288\n",
      "Variance: 3893436175.990742\n",
      "Standard Deviation: 62397.405202385955\n",
      "Median: 97198.54000000001\n",
      "Mode= 0.0\n",
      "quantiles= [0.0, 97198.54000000001, 127647.84]\n",
      "Coefficient of Variation: 0.8158028334799735\n",
      "Coefficient of Variation: 0.47%\n"
     ]
    }
   ],
   "source": [
    "import pandas as pd\n",
    "\n",
    "data = pd.read_csv(\"7030.csv\")\n",
    "print(data['Balance'])\n",
    "\n",
    "import statistics\n",
    "mean2=(statistics.mean(data['Balance']))\n",
    "print(\"Mean:\", mean2)\n",
    "variance2=(statistics.variance(data['Balance']))\n",
    "print(\"Variance:\", variance2)\n",
    "std_deviation2=(statistics.stdev(data['Balance']))\n",
    "print(\"Standard Deviation:\", std_deviation2)\n",
    "median2=(statistics.median(data['Balance']))\n",
    "print(\"Median:\",median2)\n",
    "mode2=(statistics.mode(data['Balance']))\n",
    "print(\"Mode=\",mode2)\n",
    "quantiles2=(statistics.quantiles(data['Balance']))\n",
    "print(\"quantiles=\",quantiles2)\n",
    "coefficient_of_variation2= std_deviation2 / mean2\n",
    "print(\"Coefficient of Variation:\", coefficient_of_variation2)\n",
    "print(f\"Coefficient of Variation: {coefficient_of_variation3:.2f}%\")\n"
   ]
  },
  {
   "cell_type": "code",
   "execution_count": 28,
   "metadata": {},
   "outputs": [
    {
     "name": "stdout",
     "output_type": "stream",
     "text": [
      "0       2\n",
      "1       3\n",
      "2       3\n",
      "3       5\n",
      "4       5\n",
      "       ..\n",
      "9995    1\n",
      "9996    5\n",
      "9997    3\n",
      "9998    2\n",
      "9999    3\n",
      "Name: Satisfaction Score, Length: 10000, dtype: int64\n",
      "Mean: 3.0138\n",
      "Variance: 1.9766072207220722\n",
      "Standard Deviation: 1.4059186394390226\n",
      "Median: 3.0\n",
      "Mode= 3\n",
      "quantiles= [2.0, 3.0, 4.0]\n",
      "Coefficient of Variation: 0.46649367557204285\n",
      "Coefficient of Variation: 0.47%\n"
     ]
    }
   ],
   "source": [
    "import pandas as pd\n",
    "\n",
    "data = pd.read_csv(\"7030.csv\")\n",
    "print(data['Satisfaction Score'])\n",
    "\n",
    "import statistics\n",
    "mean3=(statistics.mean(data['Satisfaction Score']))\n",
    "print(\"Mean:\", mean3)\n",
    "variance3=(statistics.variance(data['Satisfaction Score']))\n",
    "print(\"Variance:\", variance3)\n",
    "std_deviation3=(statistics.stdev(data['Satisfaction Score']))\n",
    "print(\"Standard Deviation:\", std_deviation3)\n",
    "median3=(statistics.median(data['Satisfaction Score']))\n",
    "print(\"Median:\",median3)\n",
    "mode3=(statistics.mode(data['Satisfaction Score']))\n",
    "print(\"Mode=\",mode3)\n",
    "quantiles3=(statistics.quantiles(data['Satisfaction Score']))\n",
    "print(\"quantiles=\",quantiles3)\n",
    "coefficient_of_variation3= std_deviation3 / mean3\n",
    "print(\"Coefficient of Variation:\", coefficient_of_variation3)\n",
    "print(f\"Coefficient of Variation: {coefficient_of_variation3:.2f}%\")\n"
   ]
  },
  {
   "cell_type": "markdown",
   "metadata": {},
   "source": []
  },
  {
   "cell_type": "markdown",
   "metadata": {},
   "source": [
    "Simulation of sampling distribution of sample mean"
   ]
  },
  {
   "cell_type": "code",
   "execution_count": 29,
   "metadata": {},
   "outputs": [
    {
     "data": {
      "text/plain": [
       "<Axes: ylabel='Frequency'>"
      ]
     },
     "execution_count": 29,
     "metadata": {},
     "output_type": "execute_result"
    },
    {
     "data": {
      "image/png": "[encoded data removed]",
      "text/plain": [
       "<Figure size 640x480 with 1 Axes>"
      ]
     },
     "metadata": {},
     "output_type": "display_data"
    }
   ],
   "source": [
    "sample_means_series = pd.Series(data['Balance'])\n",
    "sample_means_series.plot(kind = 'hist')"
   ]
  },
  {
   "cell_type": "markdown",
   "metadata": {},
   "source": [
    "The plot shows that the rest of the balances are close to a normal distribution with the exception of zero."
   ]
  },
  {
   "cell_type": "markdown",
   "metadata": {},
   "source": [
    "Conclusion：1.Incentivize customers with zero balances to save money；2.Motivate customers who don't complain to give a higher satisfaction;3.Reduce the complaint rate."
   ]
  },
  {
   "cell_type": "markdown",
   "metadata": {},
   "source": [
    "Hypothesis Testing\n",
    "using Chi-squared test for independence\n"
   ]
  },
  {
   "cell_type": "markdown",
   "metadata": {},
   "source": [
    "1.By adopting the Chi-squared test, we are able to decide whether two **categorical** variables of a population are independent.    \n",
    "$H_0: \\text{gender and Card Type are independent}$ $\\quad$ vs $\\quad$\n",
    "$H_1:\\text{gender and Card Type are not independent}$"
   ]
  },
  {
   "cell_type": "code",
   "execution_count": 30,
   "metadata": {},
   "outputs": [
    {
     "name": "stdout",
     "output_type": "stream",
     "text": [
      "column percentage Card Type   DIAMOND     GOLD  PLATINUM    SILVER\n",
      "Gender                                          \n",
      "Female     0.463901  0.42446  0.465731  0.463141\n",
      "Male       0.536099  0.57554  0.534269  0.536859\n",
      "contingency_table Card Type  DIAMOND  GOLD  PLATINUM  SILVER\n",
      "Gender                                    \n",
      "Female        1163  1062      1162    1156\n",
      "Male          1344  1440      1333    1340\n",
      "Chi2 Statistic: 12.0205, p-value: 0.0073\n"
     ]
    }
   ],
   "source": [
    "import matplotlib.pyplot as plt\n",
    "import pandas as pd\n",
    "import numpy as np\n",
    "from scipy import stats     \n",
    "\n",
    "order =pd.read_csv(\"7030.csv\")\n",
    "\n",
    "from scipy.stats import chi2_contingency\n",
    "\n",
    "# Summarize the count in a contingency table\n",
    "contingency_table_col = pd.crosstab(order['Gender'], order['Card Type'], normalize='columns')\n",
    "print(\"column percentage\", contingency_table_col)\n",
    "\n",
    "contingency_table= pd.crosstab(order['Gender'], order['Card Type'])\n",
    "print(\"contingency_table\", contingency_table)\n",
    "\n",
    "chi2, p, dof, expected = chi2_contingency(contingency_table)\n",
    "print(f\"Chi2 Statistic: {chi2:.4f}, p-value: {p:.4f}\")"
   ]
  },
  {
   "cell_type": "markdown",
   "metadata": {},
   "source": [
    "Given that p-value is less than 0.05, we reject the null hypothesis and claimed that the association between gender and card type is significantly different from 0.   "
   ]
  },
  {
   "cell_type": "markdown",
   "metadata": {},
   "source": [
    "2.By adopting the Chi-squared test, we are able to decide whether two **categorical** variables of a population are independent.    \n",
    "$H_0: \\text{Complain and Satisfaction Score are independent}$ $\\quad$ vs $\\quad$\n",
    "$H_1:\\text{Complain and Satisfaction Score are not independent}$"
   ]
  },
  {
   "cell_type": "code",
   "execution_count": 54,
   "metadata": {},
   "outputs": [
    {
     "name": "stdout",
     "output_type": "stream",
     "text": [
      "column percentage Satisfaction Score         1         2         3         4         5\n",
      "Complain                                                            \n",
      "0                   0.799689  0.782522  0.801175  0.794323  0.800399\n",
      "1                   0.200311  0.217478  0.198825  0.205677  0.199601\n",
      "contingency_table Satisfaction Score     1     2     3     4     5\n",
      "Complain                                        \n",
      "0                   1545  1576  1636  1595  1604\n",
      "1                    387   438   406   413   400\n",
      "Chi2 Statistic: 3.0111, p-value: 0.5560\n"
     ]
    }
   ],
   "source": [
    "import matplotlib.pyplot as plt\n",
    "import pandas as pd\n",
    "import numpy as np\n",
    "from scipy import stats     \n",
    "\n",
    "order =pd.read_csv(\"7030.csv\")\n",
    "\n",
    "from scipy.stats import chi2_contingency\n",
    "\n",
    "# Summarize the count in a contingency table\n",
    "contingency_table_col = pd.crosstab(order['Complain'], order['Satisfaction Score'], normalize='columns')\n",
    "print(\"column percentage\", contingency_table_col)\n",
    "\n",
    "contingency_table= pd.crosstab(order['Complain'], order['Satisfaction Score'])\n",
    "print(\"contingency_table\", contingency_table)\n",
    "\n",
    "chi2, p, dof, expected = chi2_contingency(contingency_table)\n",
    "print(f\"Chi2 Statistic: {chi2:.4f}, p-value: {p:.4f}\")"
   ]
  },
  {
   "cell_type": "markdown",
   "metadata": {},
   "source": [
    "Given that p-value is more than 0.05, we fail to reject the null hypothesis and claimed that the association between Complain and Satisfaction Score is not significantly different from 0.   "
   ]
  },
  {
   "cell_type": "markdown",
   "metadata": {},
   "source": [
    "I didn't use AI as a u-assist for this project. When using AI to help me learn, I think the biggest challenge is that it doesn't give me perfect answers and wastes my time, so I rely less on AI.But I think that using AI to assist my learning can better help me get in touch with the most up-to-date learning methods, and it can also help me think better about my learning tasks. And in some ways lighten my load.In some assignments, the formulas displayed by AI are not learned in textbooks, and may be different, so you need to be cautious when using AI for learning.In terms of programming, AI can be used to assist us in completing some basic theoretical learning, although I have not used it, but I think it should benefit a lot.. Here are my general opportunities and challenges I have faced when using it to assist my studies."
   ]
  },
  {
   "cell_type": "markdown",
   "metadata": {},
   "source": [
    "I referred to teacher's teaching notebook during my analysis.\n"
   ]
  }
 ],
 "metadata": {
  "kernelspec": {
   "display_name": "Python 3",
   "language": "python",
   "name": "python3"
  },
  "language_info": {
   "codemirror_mode": {
    "name": "ipython",
    "version": 3
   },
   "file_extension": ".py",
   "mimetype": "text/x-python",
   "name": "python",
   "nbconvert_exporter": "python",
   "pygments_lexer": "ipython3",
   "version": "3.12.7"
  }
 },
 "nbformat": 4,
 "nbformat_minor": 2
}
